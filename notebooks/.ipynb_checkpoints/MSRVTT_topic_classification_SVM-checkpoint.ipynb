{
 "cells": [
  {
   "cell_type": "code",
   "execution_count": 1,
   "id": "a30d63ce-4fed-4ccb-ac27-1ec4dc5d93e0",
   "metadata": {},
   "outputs": [],
   "source": [
    "import os\n",
    "REPO_ROOT=os.path.dirname(os.path.abspath('.'))\n",
    "os.chdir(REPO_ROOT)"
   ]
  },
  {
   "cell_type": "markdown",
   "id": "cfb2f198-b8b4-4aef-9b8d-b31564276cdc",
   "metadata": {},
   "source": [
    "# prepare essential environment"
   ]
  },
  {
   "cell_type": "code",
   "execution_count": 2,
   "id": "c894af49-5270-4292-a3bb-b794cceb67c4",
   "metadata": {},
   "outputs": [
    {
     "name": "stdout",
     "output_type": "stream",
     "text": [
      "Requirement already satisfied: scikit-learn in /home/bangyang/anaconda3/envs/CARE/lib/python3.9/site-packages (1.3.1)\n",
      "Requirement already satisfied: numpy<2.0,>=1.17.3 in /home/bangyang/anaconda3/envs/CARE/lib/python3.9/site-packages (from scikit-learn) (1.26.0)\n",
      "Requirement already satisfied: scipy>=1.5.0 in /home/bangyang/anaconda3/envs/CARE/lib/python3.9/site-packages (from scikit-learn) (1.11.3)\n",
      "Requirement already satisfied: joblib>=1.1.1 in /home/bangyang/anaconda3/envs/CARE/lib/python3.9/site-packages (from scikit-learn) (1.3.2)\n",
      "Requirement already satisfied: threadpoolctl>=2.0.0 in /home/bangyang/anaconda3/envs/CARE/lib/python3.9/site-packages (from scikit-learn) (3.2.0)\n"
     ]
    }
   ],
   "source": [
    "!pip install scikit-learn"
   ]
  },
  {
   "cell_type": "markdown",
   "id": "d851f161-fbdc-4793-b5c9-f53936ae81ac",
   "metadata": {},
   "source": [
    "# check the quality of latent topics and concept features"
   ]
  },
  {
   "cell_type": "code",
   "execution_count": 3,
   "id": "1deb155d-89eb-43b1-880e-2d09f890c290",
   "metadata": {},
   "outputs": [
    {
     "name": "stdout",
     "output_type": "stream",
     "text": [
      "(7010,) (2990,)\n"
     ]
    }
   ],
   "source": [
    "import pickle\n",
    "import numpy as np\n",
    "from config import Constants\n",
    "\n",
    "itoc = pickle.load(open(os.path.join(Constants.base_data_path, 'MSRVTT', 'info_corpus.pkl'), 'rb'))['info']['itoc']\n",
    "\n",
    "# obtain categories of all training and testing videos\n",
    "train_y, test_y = [], []\n",
    "for i in range(10000):\n",
    "    if i < 7010:\n",
    "        train_y.append(itoc[i])\n",
    "    else:\n",
    "        test_y.append(itoc[i])\n",
    "\n",
    "train_y = np.array(train_y)\n",
    "test_y = np.array(test_y)\n",
    "print(train_y.shape, test_y.shape)"
   ]
  },
  {
   "cell_type": "code",
   "execution_count": 4,
   "id": "cf2aa39d-81b4-47c0-9f27-1d93a6910bab",
   "metadata": {},
   "outputs": [
    {
     "name": "stdout",
     "output_type": "stream",
     "text": [
      "init COCO-EVAL scorer\n",
      "====================\n",
      "loading model from ./exps/MSRVTT/Transformer/Concept/base_ViT_VA_VAT_Nc500_Nk30_G1Lc_ViT_Nr20_bias1/best.ckpt\n"
     ]
    },
    {
     "name": "stderr",
     "output_type": "stream",
     "text": [
      "100%|████████████████████████████████████████████████████████████████████████████████████████████████████████████████████████████████████| 157/157 [00:26<00:00,  6.00it/s]\n"
     ]
    },
    {
     "name": "stdout",
     "output_type": "stream",
     "text": [
      "loading model from ./exps/MSRVTT/Transformer/Concept/base_ViT_VA_VAT_Nc500_Nk30_G1Lc_ViT_Nr20_bias1/best-v1.ckpt\n"
     ]
    },
    {
     "name": "stderr",
     "output_type": "stream",
     "text": [
      "100%|████████████████████████████████████████████████████████████████████████████████████████████████████████████████████████████████████| 157/157 [00:23<00:00,  6.80it/s]\n"
     ]
    },
    {
     "name": "stdout",
     "output_type": "stream",
     "text": [
      "loading model from ./exps/MSRVTT/Transformer/Concept/base_ViT_VA_VAT_Nc500_Nk30_G1Lc_ViT_Nr20_bias1/best-v2.ckpt\n"
     ]
    },
    {
     "name": "stderr",
     "output_type": "stream",
     "text": [
      "100%|████████████████████████████████████████████████████████████████████████████████████████████████████████████████████████████████████| 157/157 [00:24<00:00,  6.43it/s]\n"
     ]
    },
    {
     "name": "stdout",
     "output_type": "stream",
     "text": [
      "loading model from ./exps/MSRVTT/Transformer/Concept/base_ViT_VA_VAT_Nc500_Nk30_G1Lc_ViT_Nr20_bias1/best-v3.ckpt\n"
     ]
    },
    {
     "name": "stderr",
     "output_type": "stream",
     "text": [
      "100%|████████████████████████████████████████████████████████████████████████████████████████████████████████████████████████████████████| 157/157 [00:24<00:00,  6.44it/s]\n"
     ]
    },
    {
     "name": "stdout",
     "output_type": "stream",
     "text": [
      "loading model from ./exps/MSRVTT/Transformer/Concept/base_ViT_VA_VAT_Nc500_Nk30_G1Lc_ViT_Nr20_bias1/best-v4.ckpt\n"
     ]
    },
    {
     "name": "stderr",
     "output_type": "stream",
     "text": [
      "100%|████████████████████████████████████████████████████████████████████████████████████████████████████████████████████████████████████| 157/157 [00:24<00:00,  6.33it/s]\n"
     ]
    },
    {
     "name": "stdout",
     "output_type": "stream",
     "text": [
      "63.53846153846153 0.2119462142843473\n",
      "====================\n",
      "loading model from ./exps/MSRVTT/Transformer/Concept/base_ViT_VA_VAT_Nc500_Nk30_G0Lc_ViT_Nr20_bias1/best.ckpt\n"
     ]
    },
    {
     "name": "stderr",
     "output_type": "stream",
     "text": [
      "100%|████████████████████████████████████████████████████████████████████████████████████████████████████████████████████████████████████| 157/157 [00:23<00:00,  6.55it/s]\n"
     ]
    },
    {
     "name": "stdout",
     "output_type": "stream",
     "text": [
      "loading model from ./exps/MSRVTT/Transformer/Concept/base_ViT_VA_VAT_Nc500_Nk30_G0Lc_ViT_Nr20_bias1/best-v1.ckpt\n"
     ]
    },
    {
     "name": "stderr",
     "output_type": "stream",
     "text": [
      "100%|████████████████████████████████████████████████████████████████████████████████████████████████████████████████████████████████████| 157/157 [00:24<00:00,  6.33it/s]\n"
     ]
    },
    {
     "name": "stdout",
     "output_type": "stream",
     "text": [
      "loading model from ./exps/MSRVTT/Transformer/Concept/base_ViT_VA_VAT_Nc500_Nk30_G0Lc_ViT_Nr20_bias1/best-v2.ckpt\n"
     ]
    },
    {
     "name": "stderr",
     "output_type": "stream",
     "text": [
      "100%|████████████████████████████████████████████████████████████████████████████████████████████████████████████████████████████████████| 157/157 [00:24<00:00,  6.50it/s]\n"
     ]
    },
    {
     "name": "stdout",
     "output_type": "stream",
     "text": [
      "loading model from ./exps/MSRVTT/Transformer/Concept/base_ViT_VA_VAT_Nc500_Nk30_G0Lc_ViT_Nr20_bias1/best-v3.ckpt\n"
     ]
    },
    {
     "name": "stderr",
     "output_type": "stream",
     "text": [
      "100%|████████████████████████████████████████████████████████████████████████████████████████████████████████████████████████████████████| 157/157 [00:31<00:00,  4.93it/s]\n"
     ]
    },
    {
     "name": "stdout",
     "output_type": "stream",
     "text": [
      "loading model from ./exps/MSRVTT/Transformer/Concept/base_ViT_VA_VAT_Nc500_Nk30_G0Lc_ViT_Nr20_bias1/best-v4.ckpt\n"
     ]
    },
    {
     "name": "stderr",
     "output_type": "stream",
     "text": [
      "100%|████████████████████████████████████████████████████████████████████████████████████████████████████████████████████████████████████| 157/157 [00:36<00:00,  4.36it/s]\n"
     ]
    },
    {
     "name": "stdout",
     "output_type": "stream",
     "text": [
      "56.8561872909699 0.5734591371064282\n"
     ]
    }
   ],
   "source": [
    "from models import load_model\n",
    "import torch, os\n",
    "from tqdm import tqdm\n",
    "from dataloader import get_loader\n",
    "from misc.utils import to_device\n",
    "from sklearn.svm import SVC\n",
    "\n",
    "paths = [\n",
    "    f'{Constants.base_checkpoint_path}/MSRVTT/Transformer/Concept/base_ViT_VA_VAT_Nc500_Nk30_G1Lc_ViT_Nr20_bias1', # GSG + LSG\n",
    "    f'{Constants.base_checkpoint_path}/MSRVTT/Transformer/Concept/base_ViT_VA_VAT_Nc500_Nk30_G0Lc_ViT_Nr20_bias1', # LSG only\n",
    "]\n",
    "\n",
    "device = 'cuda' if torch.cuda.is_available() else 'cpu'\n",
    "\n",
    "for path in paths:\n",
    "    print('=' * 20)\n",
    "    accs = []\n",
    "    for postfix in [\"\", '-v1', '-v2', '-v3', '-v4']:\n",
    "        \n",
    "        ckpt_path = os.path.join(path, 'best%s.ckpt'%postfix)\n",
    "        print('loading model from', ckpt_path)\n",
    "        model = load_model(\n",
    "            ckpt_path,\n",
    "            device=device,\n",
    "            strict=True,\n",
    "            base_data_path=Constants.base_data_path\n",
    "        )\n",
    "\n",
    "        loader = get_loader(\n",
    "            model.get_opt(), \n",
    "            mode='all',\n",
    "            not_shuffle=True, \n",
    "            is_validation=True, \n",
    "        )\n",
    "\n",
    "        latent_topic_vector = []\n",
    "        semantic_embeddings = []\n",
    "        with torch.no_grad():\n",
    "            for batch in tqdm(loader):\n",
    "                results = model.captioner.encoding_phase(to_device(batch['feats'], device))\n",
    "                latent_topic_vector.append(results['semantic_hidden_states'])\n",
    "                semantic_embeddings.append(results['semantic_embs'])\n",
    "        \n",
    "        if 'G1Lc' in path:\n",
    "            x = torch.cat(latent_topic_vector, dim=0).cpu().numpy()\n",
    "        else:\n",
    "            x = torch.cat(semantic_embeddings, dim=0).mean(1).cpu().numpy()\n",
    "        \n",
    "        train_x, test_x = x[:7010], x[7010:]\n",
    "        \n",
    "        model = SVC(random_state=0, kernel=\"rbf\")\n",
    "        model.fit(train_x, train_y)\n",
    "        \n",
    "        pred_y = model.predict(test_x)\n",
    "        acc = (pred_y == test_y).sum() * 1.0 / len(test_y)\n",
    "        accs.append(acc * 100)\n",
    "    \n",
    "    accs = np.array(accs)\n",
    "    print(accs.mean(), accs.std())"
   ]
  },
  {
   "cell_type": "code",
   "execution_count": 5,
   "id": "3471ef90-6b58-4d28-9c52-0c2ef58bc974",
   "metadata": {},
   "outputs": [
    {
     "name": "stdout",
     "output_type": "stream",
     "text": [
      "5.230769230769231 0.3822670785880815\n"
     ]
    }
   ],
   "source": [
    "# random guess\n",
    "accs = []\n",
    "\n",
    "for seed in range(5):\n",
    "    np.random.seed(seed)\n",
    "    pred = np.random.randint(0, 20, test_y.shape)\n",
    "    acc = (pred == test_y).sum() * 1.0 / len(test_y)\n",
    "    accs.append(acc * 100)\n",
    "\n",
    "accs = np.array(accs)\n",
    "print(accs.mean(), accs.std())"
   ]
  },
  {
   "cell_type": "code",
   "execution_count": null,
   "id": "90409084-4bc1-4280-bb71-6d3412cc2478",
   "metadata": {},
   "outputs": [],
   "source": []
  }
 ],
 "metadata": {
  "kernelspec": {
   "display_name": "Python 3 (ipykernel)",
   "language": "python",
   "name": "python3"
  },
  "language_info": {
   "codemirror_mode": {
    "name": "ipython",
    "version": 3
   },
   "file_extension": ".py",
   "mimetype": "text/x-python",
   "name": "python",
   "nbconvert_exporter": "python",
   "pygments_lexer": "ipython3",
   "version": "3.9.0"
  }
 },
 "nbformat": 4,
 "nbformat_minor": 5
}
